{
 "cells": [
  {
   "cell_type": "code",
   "execution_count": 2,
   "metadata": {
    "collapsed": true
   },
   "outputs": [],
   "source": [
    "%matplotlib inline"
   ]
  },
  {
   "cell_type": "code",
   "execution_count": 4,
   "metadata": {
    "collapsed": false
   },
   "outputs": [
    {
     "name": "stderr",
     "output_type": "stream",
     "text": [
      "."
     ]
    },
    {
     "name": "stdout",
     "output_type": "stream",
     "text": [
      "    col_1 col_2\n",
      "50   True     A\n",
      "93  False     B\n",
      "27  False     A\n",
      "col_1  False  True \n",
      "col_2              \n",
      "A          8     17\n",
      "B         16     16\n",
      "C         21     22\n"
     ]
    },
    {
     "name": "stderr",
     "output_type": "stream",
     "text": [
      "\n",
      "----------------------------------------------------------------------\n",
      "Ran 1 test in 0.023s\n",
      "\n",
      "OK\n"
     ]
    }
   ],
   "source": [
    "%run ds_utils/base.py"
   ]
  },
  {
   "cell_type": "code",
   "execution_count": 6,
   "metadata": {
    "collapsed": false
   },
   "outputs": [
    {
     "name": "stderr",
     "output_type": "stream",
     "text": [
      ".."
     ]
    },
    {
     "name": "stdout",
     "output_type": "stream",
     "text": [
      "                    date_signed_on has_churned      income price_plan  \\\n",
      "424  2012-01-13T00:00:00.000000000        True  501.611407          A   \n",
      "700  2011-05-02T00:00:00.000000000        True  502.498901          B   \n",
      "59   2013-12-21T00:00:00.000000000        True  502.215191          B   \n",
      "307  2013-02-18T00:00:00.000000000       False  503.327274          A   \n",
      "330  2013-12-07T00:00:00.000000000        True  504.348346          A   \n",
      "\n",
      "    product_purchased region        tax  total_purchase  user_id  \n",
      "424                 X      b  51.272904      101.407124      424  \n",
      "700                 X      c  51.212698      118.583128      700  \n",
      "59                  Z      c  50.095600      110.441070       59  \n",
      "307                 Z      a  50.348432      117.175163      307  \n",
      "330                 Z      c  51.380332      113.940326      330  \n",
      "date_signed_on        object\n",
      "has_churned             bool\n",
      "income               float64\n",
      "price_plan            object\n",
      "product_purchased     object\n",
      "region                object\n",
      "tax                  float64\n",
      "total_purchase       float64\n",
      "user_id                int64\n",
      "dtype: object\n",
      "date_signed_on       datetime64[ns]\n",
      "has_churned                    bool\n",
      "income                      float64\n",
      "price_plan                 category\n",
      "product_purchased          category\n",
      "region                     category\n",
      "tax                         float64\n",
      "total_purchase                int64\n",
      "user_id                     float64\n",
      "dtype: object\n"
     ]
    },
    {
     "name": "stderr",
     "output_type": "stream",
     "text": [
      "\n",
      "----------------------------------------------------------------------\n",
      "Ran 2 tests in 0.045s\n",
      "\n",
      "OK\n"
     ]
    }
   ],
   "source": [
    "%run ds_utils/testing.py"
   ]
  },
  {
   "cell_type": "code",
   "execution_count": 7,
   "metadata": {
    "collapsed": false
   },
   "outputs": [
    {
     "name": "stderr",
     "output_type": "stream",
     "text": [
      "....."
     ]
    },
    {
     "name": "stdout",
     "output_type": "stream",
     "text": [
      "    date_signed_on has_churned      income price_plan product_purchased  \\\n",
      "352     2016-06-20        True  502.397422        NaN                 Y   \n",
      "459     2016-11-29       False  504.373373          A                 Y   \n",
      "638     2014-10-23       False  500.275812          A                 Z   \n",
      "313     2015-12-07        True  503.959311          B                 Y   \n",
      "198     2012-08-03       False  501.180983          B                 Y   \n",
      "\n",
      "    region        tax  total_purchase  user_id  \n",
      "352      b  51.474804             109    352.0  \n",
      "459      d  50.489433             116    459.0  \n",
      "638      a  50.428622             114    638.0  \n",
      "313      a  51.960014             118    313.0  \n",
      "198      b  51.297972             114    198.0  \n",
      "date_signed_on       datetime64[ns]\n",
      "has_churned                    bool\n",
      "income                      float64\n",
      "price_plan                 category\n",
      "product_purchased          category\n",
      "region                     category\n",
      "tax                         float64\n",
      "total_purchase                int64\n",
      "user_id                     float64\n",
      "dtype: object\n",
      "date_signed_on       datetime64[ns]\n",
      "has_churned                    bool\n",
      "income                      float64\n",
      "price_plan                 category\n",
      "product_purchased          category\n",
      "region                     category\n",
      "tax                         float64\n",
      "total_purchase                int64\n",
      "user_id                     float64\n",
      "dtype: object\n",
      "    date_signed_on has_churned      income price_plan product_purchased  \\\n",
      "11      2011-10-02       False  500.962287          B                 Y   \n",
      "52      2011-01-26       False  501.207718          B                 Z   \n",
      "17      2014-05-05        True  501.189824          A                 X   \n",
      "946     2014-12-27       False  503.623228          A                 Z   \n",
      "526     2012-08-24        True  504.552073          B                 X   \n",
      "\n",
      "    region        tax  total_purchase  user_id  \n",
      "11       b  50.287722             114     11.0  \n",
      "52     NaN  50.211636             113     52.0  \n",
      "17       a  50.704509             112     17.0  \n",
      "946      b  50.638333             110    946.0  \n",
      "526      a  50.328072             112    526.0  \n",
      "date_signed_on       datetime64[ns]\n",
      "has_churned                    bool\n",
      "income                      float64\n",
      "price_plan                 category\n",
      "product_purchased          category\n",
      "region                     category\n",
      "tax                         float64\n",
      "total_purchase                int64\n",
      "user_id                     float64\n",
      "dtype: object\n",
      "    date_signed_on has_churned      income price_plan product_purchased  \\\n",
      "22      2013-11-20       False         NaN          A                 Z   \n",
      "152     2010-02-20       False  503.875076          A                 Y   \n",
      "945     2013-03-16       False  504.851737          A                 X   \n",
      "271     2016-01-18       False  501.354269          B                 X   \n",
      "743     2016-12-06        True  502.780256          A                 Z   \n",
      "\n",
      "    region        tax  total_purchase  user_id  \n",
      "22       d  50.267726             103     22.0  \n",
      "152      a  51.531020             118    152.0  \n",
      "945      d  50.895717             114    945.0  \n",
      "271      b  50.011400             105    271.0  \n",
      "743      b  51.472394             111    743.0  \n",
      "Index(['a', 'b', 'c', 'd', 'unknown'], dtype='object')\n",
      "  animal  color letter  number target\n",
      "0    dog    red      a     1.0   True\n",
      "1    cat  green      b     2.5  False\n",
      "2    dog   blue      c     3.0   True\n",
      "  animal  color letter  number\n",
      "0    dog    red      a     2.5\n",
      "1    pig  green      b     3.5\n",
      "   number target  letter_a  letter_b  letter_c  animal_cat  animal_dog  \\\n",
      "0     1.0   True         1         0         0           0           1   \n",
      "1     2.5  False         0         1         0           1           0   \n",
      "2     3.0   True         0         0         1           0           1   \n",
      "\n",
      "   color_blue  color_green  color_red  \n",
      "0           0            0          1  \n",
      "1           0            1          0  \n",
      "2           1            0          0  \n",
      "   number  letter_a  letter_b  letter_c  animal_cat  animal_dog  animal_pig  \\\n",
      "0     1.0         1         0         0           0           1           0   \n",
      "1     2.5         0         1         0           1           0           0   \n",
      "2     3.0         0         0         1           0           1           0   \n",
      "\n",
      "   color_blue  color_green  color_red  \n",
      "0           0            0          1  \n",
      "1           0            1          0  \n",
      "2           1            0          0  \n",
      "   number  letter_a  letter_b  letter_c  animal_cat  animal_dog  animal_pig  \\\n",
      "0     2.5         1         0         0           0           1           0   \n",
      "1     3.5         0         1         0           0           0           1   \n",
      "\n",
      "   color_blue  color_green  color_red  \n",
      "0           0            0          1  \n",
      "1           0            1          0  \n",
      "  animal  color letter  number target\n",
      "0    dog    red      a     1.0   True\n",
      "1    cat  green      b     2.5  False\n",
      "2    dog   blue      c     3.0   True\n",
      "   animal  color  letter  number target\n",
      "0       1      2       0     1.0   True\n",
      "1       0      1       1     2.5  False\n",
      "2       1      0       2     3.0   True\n",
      "  animal  color letter  number target\n",
      "0    dog    red      a     1.0   True\n",
      "1    cat  green      b     2.5  False\n",
      "2    dog   blue      c     3.0   True\n",
      "  animal  color letter  number\n",
      "0    dog    red      a     2.5\n",
      "1    pig  green      b     3.5\n",
      "   animal  color  letter  number\n",
      "0       1      2       0     1.0\n",
      "1       0      1       1     2.5\n",
      "2       1      0       2     3.0\n",
      "   animal  color  letter  number\n",
      "0       1      2       0     2.5\n",
      "1       2      1       1     3.5\n"
     ]
    },
    {
     "name": "stderr",
     "output_type": "stream",
     "text": [
      "\n",
      "----------------------------------------------------------------------\n",
      "Ran 5 tests in 0.147s\n",
      "\n",
      "OK\n"
     ]
    }
   ],
   "source": [
    "%run ds_utils/preprocessing.py"
   ]
  },
  {
   "cell_type": "code",
   "execution_count": 8,
   "metadata": {
    "collapsed": false,
    "scrolled": false
   },
   "outputs": [
    {
     "name": "stderr",
     "output_type": "stream",
     "text": [
      ".."
     ]
    },
    {
     "name": "stdout",
     "output_type": "stream",
     "text": [
      "    date_signed_on has_churned      income price_plan product_purchased  \\\n",
      "806     2014-07-27        True  504.988701          A                 X   \n",
      "199     2011-02-11        True  503.165228          B                 Z   \n",
      "623     2015-12-17       False  501.215643          A                 Y   \n",
      "786     2015-08-24       False  502.235220          A                 Y   \n",
      "933     2016-05-13       False  501.070794          A                 Y   \n",
      "\n",
      "    region        tax  total_purchase  user_id  \n",
      "806      d  50.201812             107    806.0  \n",
      "199      c  50.556607             102    199.0  \n",
      "623      a  51.775415             105    623.0  \n",
      "786    NaN  51.239964             107    786.0  \n",
      "933      a  50.438499             103    933.0  \n",
      "    date_signed_on has_churned      income price_plan product_purchased  \\\n",
      "805     2011-02-04       False  503.516592          B                 Y   \n",
      "91      2015-02-21        True  501.046000          B                 Y   \n",
      "33      2016-05-14       False  504.220352          B                 X   \n",
      "511     2011-01-20        True  503.995927          A                 Y   \n",
      "789     2015-05-09        True  504.571068          B                 Y   \n",
      "\n",
      "    region        tax  total_purchase  user_id  \n",
      "805    NaN  51.836319             115    805.0  \n",
      "91       d  51.210527             105     91.0  \n",
      "33     NaN  51.701108             115     33.0  \n",
      "511      a  51.932461             101    511.0  \n",
      "789      a  51.016422             113    789.0  \n",
      "    date_signed_on has_churned      income price_plan product_purchased  \\\n",
      "271     2013-05-04        True  500.386858          A                 X   \n",
      "58      2011-11-17        True  502.090085          B                 X   \n",
      "387     2011-11-17       False  504.814143        NaN                 X   \n",
      "175     2014-11-18        True  503.533758          B                 Z   \n",
      "467     2015-06-29        True  502.920682          B                 Z   \n",
      "\n",
      "    region        tax  total_purchase  user_id  \n",
      "271      a  51.009800             115    271.0  \n",
      "58       d  50.502944             116     58.0  \n",
      "387      b  51.949030             113    387.0  \n",
      "175      b  51.407203             104    175.0  \n",
      "467      b  50.636960             113    467.0  \n",
      "    date_signed_on has_churned      income price_plan product_purchased  \\\n",
      "495     2016-07-19        True  502.944374          B                 Z   \n",
      "614     2014-04-24       False  501.121831          B                 X   \n",
      "808     2014-01-23       False  502.230805          B                 Z   \n",
      "640     2012-01-16       False  503.042489          A                 Z   \n",
      "153     2012-08-11        True  502.673587          B                 X   \n",
      "\n",
      "    region        tax  total_purchase  user_id  \n",
      "495    NaN  50.203342             111    495.0  \n",
      "614      c  51.707547             110    614.0  \n",
      "808      c  50.949834             119    808.0  \n",
      "640      a  50.250482             107    640.0  \n",
      "153      b  51.902172             106    153.0  \n",
      "    date_signed_on has_churned      income price_plan product_purchased  \\\n",
      "676     2011-04-10        True  501.983428          B                 Z   \n",
      "489     2014-05-14        True  502.817970        NaN                 X   \n",
      "773     2016-07-04        True  504.224994        NaN                 Z   \n",
      "542     2015-08-23        True  501.976781          B                 X   \n",
      "566     2010-01-15       False  502.949738          B                 X   \n",
      "\n",
      "    region        tax  total_purchase  user_id  \n",
      "676      c  51.562622             105    676.0  \n",
      "489      c  51.732628             118    489.0  \n",
      "773      d  50.593725             109    773.0  \n",
      "542      a  51.178167             110    542.0  \n",
      "566    NaN  51.775912             110    566.0  \n",
      "    date_signed_on has_churned      income price_plan product_purchased  \\\n",
      "176     2010-11-09       False  504.234085          A                 X   \n",
      "564     2012-05-04        True  503.899897          A                 X   \n",
      "89      2010-07-10       False  504.620120        NaN                 Z   \n",
      "976     2010-05-01        True  501.924548          B                 X   \n",
      "525     2012-09-28        True  504.605080          B                 Y   \n",
      "\n",
      "    region        tax  total_purchase  user_id  \n",
      "176    NaN  51.951210             105    176.0  \n",
      "564    NaN  50.034655             105    564.0  \n",
      "89       d  51.810355             113     89.0  \n",
      "976      c  51.836772             115    976.0  \n",
      "525    NaN  50.921368             112    525.0  \n",
      "       ratio has_churned\n",
      "False  0.516       False\n",
      "True   0.484        True\n",
      "     ratio price_plan\n",
      "B    0.462          B\n",
      "A    0.438          A\n",
      "NaN  0.100    missing\n",
      "   ratio product_purchased\n",
      "Y  0.337                 Y\n",
      "Z  0.333                 Z\n",
      "X  0.330                 X\n",
      "     ratio   region\n",
      "d    0.223        d\n",
      "a    0.220        a\n",
      "c    0.206        c\n",
      "b    0.201        b\n",
      "NaN  0.150  missing\n",
      "True\n",
      "df_describe_categorical_col_by_categorical_col\n",
      "price_plan         A         B\n",
      "has_churned                   \n",
      "False        0.48366  0.510204\n",
      "True         0.51634  0.489796\n",
      "product_purchased         X        Y         Z\n",
      "has_churned                                   \n",
      "False              0.490506  0.51875  0.489011\n",
      "True               0.509494  0.48125  0.510989\n"
     ]
    },
    {
     "name": "stderr",
     "output_type": "stream",
     "text": [
      "...."
     ]
    },
    {
     "name": "stdout",
     "output_type": "stream",
     "text": [
      "region              a         b         c         d\n",
      "has_churned                                        \n",
      "False        0.435233  0.526066  0.502392  0.506329\n",
      "True         0.564767  0.473934  0.497608  0.493671\n",
      "                  has_churned  price_plan  product_purchased   region\n",
      "count                  1000.0      1000.0             1000.0  1000.00\n",
      "num_unique_value          2.0         2.0                3.0     4.00\n",
      "percent_nulls             0.0         0.1                0.0     0.15\n",
      "                      income  total_purchase\n",
      "has_churned                                 \n",
      "False       0.00  500.012927           100.0\n",
      "            0.25  501.411613           105.0\n",
      "            0.50  502.451877           109.0\n",
      "            0.75  503.596186           115.0\n",
      "            1.00  504.998757           119.0\n",
      "True        0.00  500.021286           100.0\n",
      "            0.25  501.332294           104.0\n",
      "            0.50  502.698333           108.0\n",
      "            0.75  503.773294           114.0\n",
      "            1.00  504.984317           119.0\n",
      "                      income  total_purchase\n",
      "has_churned                                 \n",
      "False       0.00  500.009265           100.0\n",
      "            0.25  501.351258           104.0\n",
      "            0.50  502.569478           109.0\n",
      "            0.75  503.906493           114.0\n",
      "            1.00  504.999764           119.0\n",
      "True        0.00  500.004520           100.0\n",
      "            0.25  501.190726           105.0\n",
      "            0.50  502.365542           110.0\n",
      "            0.75  503.711138           114.0\n",
      "            1.00  504.999704           119.0\n"
     ]
    },
    {
     "name": "stderr",
     "output_type": "stream",
     "text": [
      "\n",
      "----------------------------------------------------------------------\n",
      "Ran 6 tests in 0.152s\n",
      "\n",
      "OK\n"
     ]
    }
   ],
   "source": [
    "%run ds_utils/explore.py"
   ]
  },
  {
   "cell_type": "code",
   "execution_count": null,
   "metadata": {
    "collapsed": true
   },
   "outputs": [],
   "source": []
  }
 ],
 "metadata": {
  "kernelspec": {
   "display_name": "Python 3",
   "language": "python",
   "name": "python3"
  },
  "language_info": {
   "codemirror_mode": {
    "name": "ipython",
    "version": 3
   },
   "file_extension": ".py",
   "mimetype": "text/x-python",
   "name": "python",
   "nbconvert_exporter": "python",
   "pygments_lexer": "ipython3",
   "version": "3.6.0"
  },
  "toc": {
   "colors": {
    "hover_highlight": "#DAA520",
    "running_highlight": "#FF0000",
    "selected_highlight": "#FFD700"
   },
   "moveMenuLeft": true,
   "nav_menu": {
    "height": "11px",
    "width": "251px"
   },
   "navigate_menu": true,
   "number_sections": true,
   "sideBar": true,
   "threshold": 4,
   "toc_cell": false,
   "toc_section_display": "block",
   "toc_window_display": false,
   "widenNotebook": false
  }
 },
 "nbformat": 4,
 "nbformat_minor": 2
}
